{
 "cells": [
  {
   "cell_type": "code",
   "execution_count": 4,
   "id": "b5025dc1",
   "metadata": {
    "ExecuteTime": {
     "end_time": "2022-02-14T04:27:31.875788Z",
     "start_time": "2022-02-14T04:27:31.868807Z"
    }
   },
   "outputs": [
    {
     "name": "stdout",
     "output_type": "stream",
     "text": [
      "My favorite fruit is pineapple\n"
     ]
    }
   ],
   "source": [
    "def myfunc(**kwargs):\n",
    "    if 'fruit' in kwargs:\n",
    "        print(\"My favorite fruit is\" + ' ' + kwargs['fruit'])  # review String Formatting and f-strings if this syntax is unfamiliar\n",
    "    else:\n",
    "        print(\"I don't like fruit\")\n",
    "        \n",
    "myfunc(fruit='pineapple')"
   ]
  },
  {
   "cell_type": "code",
   "execution_count": 5,
   "id": "6ae4b64d",
   "metadata": {
    "ExecuteTime": {
     "end_time": "2022-02-14T09:26:01.777504Z",
     "start_time": "2022-02-14T09:26:01.757526Z"
    }
   },
   "outputs": [
    {
     "name": "stdout",
     "output_type": "stream",
     "text": [
      "1\n",
      "2\n",
      "3\n",
      "4\n"
     ]
    }
   ],
   "source": [
    "tup = (1,2,3,4)\n",
    "\n",
    "for i in tup:\n",
    "    print(i)"
   ]
  },
  {
   "cell_type": "code",
   "execution_count": 17,
   "id": "088e02c1",
   "metadata": {
    "ExecuteTime": {
     "end_time": "2022-02-15T04:48:05.286549Z",
     "start_time": "2022-02-15T04:48:05.269594Z"
    }
   },
   "outputs": [
    {
     "name": "stdout",
     "output_type": "stream",
     "text": [
      "24\n"
     ]
    }
   ],
   "source": [
    "def mul(*args):\n",
    "    total = 1\n",
    "    for i in args:\n",
    "        total = total*i\n",
    "    print(total)\n",
    "mul(1,2,3,4)        "
   ]
  },
  {
   "cell_type": "code",
   "execution_count": 18,
   "id": "9454232c",
   "metadata": {
    "ExecuteTime": {
     "end_time": "2022-02-15T04:48:29.258114Z",
     "start_time": "2022-02-15T04:48:29.228197Z"
    }
   },
   "outputs": [
    {
     "ename": "TypeError",
     "evalue": "mul() takes from 0 to 2 positional arguments but 4 were given",
     "output_type": "error",
     "traceback": [
      "\u001b[1;31m---------------------------------------------------------------------------\u001b[0m",
      "\u001b[1;31mTypeError\u001b[0m                                 Traceback (most recent call last)",
      "\u001b[1;32m<ipython-input-18-90868dfce94b>\u001b[0m in \u001b[0;36m<module>\u001b[1;34m\u001b[0m\n\u001b[0;32m      4\u001b[0m         \u001b[0mtotal\u001b[0m \u001b[1;33m=\u001b[0m \u001b[0mtotal\u001b[0m\u001b[1;33m*\u001b[0m\u001b[0mi\u001b[0m\u001b[1;33m\u001b[0m\u001b[1;33m\u001b[0m\u001b[0m\n\u001b[0;32m      5\u001b[0m     \u001b[0mprint\u001b[0m\u001b[1;33m(\u001b[0m\u001b[0mtotal\u001b[0m\u001b[1;33m)\u001b[0m\u001b[1;33m\u001b[0m\u001b[1;33m\u001b[0m\u001b[0m\n\u001b[1;32m----> 6\u001b[1;33m \u001b[0mmul\u001b[0m\u001b[1;33m(\u001b[0m\u001b[1;36m1\u001b[0m\u001b[1;33m,\u001b[0m\u001b[1;36m2\u001b[0m\u001b[1;33m,\u001b[0m\u001b[1;36m3\u001b[0m\u001b[1;33m,\u001b[0m\u001b[1;36m4\u001b[0m\u001b[1;33m)\u001b[0m\u001b[1;33m\u001b[0m\u001b[1;33m\u001b[0m\u001b[0m\n\u001b[0m",
      "\u001b[1;31mTypeError\u001b[0m: mul() takes from 0 to 2 positional arguments but 4 were given"
     ]
    }
   ],
   "source": [
    "def mul(a=0, b=0):\n",
    "    total = 1\n",
    "    for i in args:\n",
    "        total = total*i\n",
    "    print(total)\n",
    "mul(1,2,3,4)   "
   ]
  },
  {
   "cell_type": "code",
   "execution_count": 13,
   "id": "e115736b",
   "metadata": {
    "ExecuteTime": {
     "end_time": "2022-02-15T04:47:19.222676Z",
     "start_time": "2022-02-15T04:47:19.204691Z"
    }
   },
   "outputs": [
    {
     "name": "stdout",
     "output_type": "stream",
     "text": [
      "30\n"
     ]
    }
   ],
   "source": [
    "def add(*args):\n",
    "    total = 0\n",
    "    for arg in args:\n",
    "        total+=arg\n",
    "    print (total)\n",
    "add(10,20)"
   ]
  },
  {
   "cell_type": "code",
   "execution_count": 21,
   "id": "0b49465b",
   "metadata": {
    "ExecuteTime": {
     "end_time": "2022-02-15T06:08:16.771468Z",
     "start_time": "2022-02-15T06:08:16.767481Z"
    }
   },
   "outputs": [],
   "source": [
    "import math"
   ]
  },
  {
   "cell_type": "code",
   "execution_count": 23,
   "id": "832fb36e",
   "metadata": {
    "ExecuteTime": {
     "end_time": "2022-02-15T06:09:01.182836Z",
     "start_time": "2022-02-15T06:09:01.163854Z"
    }
   },
   "outputs": [],
   "source": [
    "from math import pi"
   ]
  },
  {
   "cell_type": "code",
   "execution_count": 24,
   "id": "fce0bbc8",
   "metadata": {
    "ExecuteTime": {
     "end_time": "2022-02-15T06:09:03.350698Z",
     "start_time": "2022-02-15T06:09:03.334710Z"
    }
   },
   "outputs": [
    {
     "data": {
      "text/plain": [
       "90.0"
      ]
     },
     "execution_count": 24,
     "metadata": {},
     "output_type": "execute_result"
    }
   ],
   "source": [
    "math.degrees(pi/2)"
   ]
  },
  {
   "cell_type": "code",
   "execution_count": 25,
   "id": "b0de2fbd",
   "metadata": {
    "ExecuteTime": {
     "end_time": "2022-02-15T06:11:39.809101Z",
     "start_time": "2022-02-15T06:11:39.793142Z"
    }
   },
   "outputs": [],
   "source": [
    "import random"
   ]
  }
 ],
 "metadata": {
  "kernelspec": {
   "display_name": "Python 3",
   "language": "python",
   "name": "python3"
  },
  "language_info": {
   "codemirror_mode": {
    "name": "ipython",
    "version": 3
   },
   "file_extension": ".py",
   "mimetype": "text/x-python",
   "name": "python",
   "nbconvert_exporter": "python",
   "pygments_lexer": "ipython3",
   "version": "3.8.8"
  }
 },
 "nbformat": 4,
 "nbformat_minor": 5
}
