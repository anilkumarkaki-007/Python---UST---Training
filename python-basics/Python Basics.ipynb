{
 "cells": [
  {
   "cell_type": "code",
   "execution_count": 181,
   "id": "38996ad8",
   "metadata": {
    "ExecuteTime": {
     "end_time": "2022-02-09T04:13:46.549910Z",
     "start_time": "2022-02-09T04:13:46.529964Z"
    }
   },
   "outputs": [
    {
     "data": {
      "text/plain": [
       "['False',\n",
       " 'None',\n",
       " 'True',\n",
       " 'and',\n",
       " 'as',\n",
       " 'assert',\n",
       " 'async',\n",
       " 'await',\n",
       " 'break',\n",
       " 'class',\n",
       " 'continue',\n",
       " 'def',\n",
       " 'del',\n",
       " 'elif',\n",
       " 'else',\n",
       " 'except',\n",
       " 'finally',\n",
       " 'for',\n",
       " 'from',\n",
       " 'global',\n",
       " 'if',\n",
       " 'import',\n",
       " 'in',\n",
       " 'is',\n",
       " 'lambda',\n",
       " 'nonlocal',\n",
       " 'not',\n",
       " 'or',\n",
       " 'pass',\n",
       " 'raise',\n",
       " 'return',\n",
       " 'try',\n",
       " 'while',\n",
       " 'with',\n",
       " 'yield']"
      ]
     },
     "execution_count": 181,
     "metadata": {},
     "output_type": "execute_result"
    }
   ],
   "source": [
    "import keyword\n",
    "keyword.kwlist"
   ]
  },
  {
   "cell_type": "code",
   "execution_count": 182,
   "id": "a612f768",
   "metadata": {
    "ExecuteTime": {
     "end_time": "2022-02-09T04:13:46.706003Z",
     "start_time": "2022-02-09T04:13:46.552903Z"
    }
   },
   "outputs": [
    {
     "data": {
      "text/plain": [
       "True"
      ]
     },
     "execution_count": 182,
     "metadata": {},
     "output_type": "execute_result"
    }
   ],
   "source": [
    "keyword.iskeyword('try')"
   ]
  },
  {
   "cell_type": "code",
   "execution_count": 183,
   "id": "2c4f5a5c",
   "metadata": {
    "ExecuteTime": {
     "end_time": "2022-02-09T04:13:46.815710Z",
     "start_time": "2022-02-09T04:13:46.709994Z"
    }
   },
   "outputs": [
    {
     "data": {
      "text/plain": [
       "False"
      ]
     },
     "execution_count": 183,
     "metadata": {},
     "output_type": "execute_result"
    }
   ],
   "source": [
    "keyword.iskeyword('Anil')"
   ]
  },
  {
   "cell_type": "code",
   "execution_count": 184,
   "id": "1fbefdce",
   "metadata": {
    "ExecuteTime": {
     "end_time": "2022-02-09T04:13:46.926208Z",
     "start_time": "2022-02-09T04:13:46.818703Z"
    }
   },
   "outputs": [],
   "source": [
    "name = 'Anil'\n",
    "my_identifier = name"
   ]
  },
  {
   "cell_type": "code",
   "execution_count": 185,
   "id": "057fd9f8",
   "metadata": {
    "ExecuteTime": {
     "end_time": "2022-02-09T04:13:47.130717Z",
     "start_time": "2022-02-09T04:13:46.928130Z"
    }
   },
   "outputs": [],
   "source": [
    "# This a comment"
   ]
  },
  {
   "cell_type": "code",
   "execution_count": 186,
   "id": "593f3dc6",
   "metadata": {
    "ExecuteTime": {
     "end_time": "2022-02-09T04:13:47.255767Z",
     "start_time": "2022-02-09T04:13:47.132711Z"
    }
   },
   "outputs": [
    {
     "name": "stdout",
     "output_type": "stream",
     "text": [
      "10\n"
     ]
    }
   ],
   "source": [
    "s = 10\n",
    "print(s)"
   ]
  },
  {
   "cell_type": "code",
   "execution_count": 187,
   "id": "58b3e48c",
   "metadata": {
    "ExecuteTime": {
     "end_time": "2022-02-09T04:13:47.428825Z",
     "start_time": "2022-02-09T04:13:47.258764Z"
    }
   },
   "outputs": [
    {
     "name": "stdout",
     "output_type": "stream",
     "text": [
      "10\n",
      "20\n"
     ]
    }
   ],
   "source": [
    "#Global variables\n",
    "a =10\n",
    "def function():\n",
    "    global a \n",
    "    a += 10\n",
    "    print(a)\n",
    "print(a)\n",
    "function()\n",
    "    "
   ]
  },
  {
   "cell_type": "code",
   "execution_count": 188,
   "id": "37ac2990",
   "metadata": {
    "ExecuteTime": {
     "end_time": "2022-02-09T04:13:47.570876Z",
     "start_time": "2022-02-09T04:13:47.433812Z"
    }
   },
   "outputs": [
    {
     "name": "stdout",
     "output_type": "stream",
     "text": [
      "['CSK', 'RCB', 'MI', 'CSK', 'RCB', 'MI']\n"
     ]
    }
   ],
   "source": [
    "#List\n",
    "\n",
    "my_list = [\"CSK\", \"RCB\", \"MI\", \"CSK\", \"RCB\", \"MI\"]\n",
    "print (my_list)"
   ]
  },
  {
   "cell_type": "code",
   "execution_count": 189,
   "id": "50312ccf",
   "metadata": {
    "ExecuteTime": {
     "end_time": "2022-02-09T04:13:47.741984Z",
     "start_time": "2022-02-09T04:13:47.574867Z"
    }
   },
   "outputs": [
    {
     "data": {
      "text/plain": [
       "6"
      ]
     },
     "execution_count": 189,
     "metadata": {},
     "output_type": "execute_result"
    }
   ],
   "source": [
    "len(my_list)"
   ]
  },
  {
   "cell_type": "code",
   "execution_count": 190,
   "id": "45bee124",
   "metadata": {
    "ExecuteTime": {
     "end_time": "2022-02-09T04:13:47.897967Z",
     "start_time": "2022-02-09T04:13:47.743945Z"
    }
   },
   "outputs": [
    {
     "name": "stdout",
     "output_type": "stream",
     "text": [
      "6\n"
     ]
    }
   ],
   "source": [
    "print(len(my_list))"
   ]
  },
  {
   "cell_type": "code",
   "execution_count": 191,
   "id": "6a548559",
   "metadata": {
    "ExecuteTime": {
     "end_time": "2022-02-09T04:13:48.148185Z",
     "start_time": "2022-02-09T04:13:47.900927Z"
    }
   },
   "outputs": [
    {
     "name": "stdout",
     "output_type": "stream",
     "text": [
      "['IND', 'Aus', 'Eng'] [1, 2, 3, 4, 5] [True, False]\n"
     ]
    }
   ],
   "source": [
    "list1 = [\"IND\", \"Aus\", \"Eng\"]\n",
    "list2 = [1, 2, 3, 4, 5]\n",
    "list3 = [True, False]\n",
    "\n",
    "print(list1, list2, list3)"
   ]
  },
  {
   "cell_type": "code",
   "execution_count": 192,
   "id": "d4f8049c",
   "metadata": {
    "ExecuteTime": {
     "end_time": "2022-02-09T04:13:48.306807Z",
     "start_time": "2022-02-09T04:13:48.151177Z"
    }
   },
   "outputs": [
    {
     "name": "stdout",
     "output_type": "stream",
     "text": [
      "['IND', 'Aus', 'Eng', 1, 2, 3, 4.5, 5, 'Male', 'Female']\n"
     ]
    }
   ],
   "source": [
    "list1 = [\"IND\", \"Aus\", \"Eng\",1, 2, 3, 4.5, 5, \"Male\", \"Female\"]\n",
    "print(list1)"
   ]
  },
  {
   "cell_type": "code",
   "execution_count": 193,
   "id": "e0f2e8e2",
   "metadata": {
    "ExecuteTime": {
     "end_time": "2022-02-09T04:13:48.478823Z",
     "start_time": "2022-02-09T04:13:48.308800Z"
    }
   },
   "outputs": [
    {
     "name": "stdout",
     "output_type": "stream",
     "text": [
      "['IND', 'Aus', 'Eng', 1, 2, 3, 4.5, 5, 'Male', 'Female', (1, 2), {2, 3}]\n"
     ]
    }
   ],
   "source": [
    "my_lists1 = [\"IND\", \"Aus\", \"Eng\",1, 2, 3, 4.5, 5, \"Male\", \"Female\", (1,2), {2,3}]\n",
    "print(my_lists1)"
   ]
  },
  {
   "cell_type": "code",
   "execution_count": 194,
   "id": "dccb7781",
   "metadata": {
    "ExecuteTime": {
     "end_time": "2022-02-09T04:13:48.633887Z",
     "start_time": "2022-02-09T04:13:48.481816Z"
    }
   },
   "outputs": [
    {
     "name": "stdout",
     "output_type": "stream",
     "text": [
      "['IND', 'Aus', 'WI', 1, 2, 3, 4.5, 5, 'Male', 'Female', (1, 2), {2, 3}]\n"
     ]
    }
   ],
   "source": [
    "my_lists1[2] = \"WI\"\n",
    "print(my_lists1)"
   ]
  },
  {
   "cell_type": "code",
   "execution_count": 195,
   "id": "8971b1a5",
   "metadata": {
    "ExecuteTime": {
     "end_time": "2022-02-09T04:13:48.803440Z",
     "start_time": "2022-02-09T04:13:48.636879Z"
    }
   },
   "outputs": [
    {
     "data": {
      "text/plain": [
       "list"
      ]
     },
     "execution_count": 195,
     "metadata": {},
     "output_type": "execute_result"
    }
   ],
   "source": [
    "type(list1)"
   ]
  },
  {
   "cell_type": "code",
   "execution_count": 196,
   "id": "73ccc1e5",
   "metadata": {
    "ExecuteTime": {
     "end_time": "2022-02-09T04:13:48.959967Z",
     "start_time": "2022-02-09T04:13:48.815906Z"
    }
   },
   "outputs": [
    {
     "name": "stdout",
     "output_type": "stream",
     "text": [
      "('IND', 'Aus', 'Eng')\n"
     ]
    }
   ],
   "source": [
    "#Tuple\n",
    "\n",
    "tuple1 = (\"IND\", \"Aus\", \"Eng\")\n",
    "print(tuple1)"
   ]
  },
  {
   "cell_type": "code",
   "execution_count": 197,
   "id": "8ae7ada9",
   "metadata": {
    "ExecuteTime": {
     "end_time": "2022-02-09T04:13:49.210810Z",
     "start_time": "2022-02-09T04:13:48.963957Z"
    }
   },
   "outputs": [
    {
     "name": "stdout",
     "output_type": "stream",
     "text": [
      "('CSK', 'RCB', 'MI', 'CSK', 'RCB', 'MI')\n"
     ]
    }
   ],
   "source": [
    "my_tuple = (\"CSK\", \"RCB\", \"MI\", \"CSK\", \"RCB\", \"MI\")\n",
    "print(my_tuple)"
   ]
  },
  {
   "cell_type": "code",
   "execution_count": 198,
   "id": "8a081d86",
   "metadata": {
    "ExecuteTime": {
     "end_time": "2022-02-09T04:13:49.383347Z",
     "start_time": "2022-02-09T04:13:49.213801Z"
    }
   },
   "outputs": [
    {
     "name": "stdout",
     "output_type": "stream",
     "text": [
      "('IND', 'Aus', 'Eng', 1, 2, 3, 4.5, 5, 'Male', 'Female', [1, 2, 3])\n"
     ]
    }
   ],
   "source": [
    "my_tuple1 = (\"IND\", \"Aus\", \"Eng\",1, 2, 3, 4.5, 5, \"Male\", \"Female\", [1,2,3])\n",
    "print(my_tuple1)"
   ]
  },
  {
   "cell_type": "code",
   "execution_count": 199,
   "id": "3a4b5193",
   "metadata": {
    "ExecuteTime": {
     "end_time": "2022-02-09T04:13:49.540484Z",
     "start_time": "2022-02-09T04:13:49.386339Z"
    }
   },
   "outputs": [
    {
     "data": {
      "text/plain": [
       "[1, 2, 3]"
      ]
     },
     "execution_count": 199,
     "metadata": {},
     "output_type": "execute_result"
    }
   ],
   "source": [
    "my_tuple1[-1]"
   ]
  },
  {
   "cell_type": "code",
   "execution_count": 200,
   "id": "c541f48d",
   "metadata": {
    "ExecuteTime": {
     "end_time": "2022-02-09T04:13:49.712182Z",
     "start_time": "2022-02-09T04:13:49.546472Z"
    }
   },
   "outputs": [
    {
     "data": {
      "text/plain": [
       "tuple"
      ]
     },
     "execution_count": 200,
     "metadata": {},
     "output_type": "execute_result"
    }
   ],
   "source": [
    "type(my_tuple)"
   ]
  },
  {
   "cell_type": "code",
   "execution_count": 201,
   "id": "1bd1ab2f",
   "metadata": {
    "ExecuteTime": {
     "end_time": "2022-02-09T04:13:49.960663Z",
     "start_time": "2022-02-09T04:13:49.716206Z"
    }
   },
   "outputs": [
    {
     "name": "stdout",
     "output_type": "stream",
     "text": [
      "6\n"
     ]
    }
   ],
   "source": [
    "print(len(my_tuple))"
   ]
  },
  {
   "cell_type": "code",
   "execution_count": 202,
   "id": "43e7bc44",
   "metadata": {
    "ExecuteTime": {
     "end_time": "2022-02-09T04:13:50.163747Z",
     "start_time": "2022-02-09T04:13:49.963654Z"
    }
   },
   "outputs": [
    {
     "name": "stdout",
     "output_type": "stream",
     "text": [
      "{'IND', 'Eng', 'Aus'}\n"
     ]
    }
   ],
   "source": [
    "#sets\n",
    "\n",
    "set1 = {\"IND\", \"Aus\", \"Eng\", \"Eng\"}\n",
    "print(set1)"
   ]
  },
  {
   "cell_type": "code",
   "execution_count": 203,
   "id": "8a31dc11",
   "metadata": {
    "ExecuteTime": {
     "end_time": "2022-02-09T04:13:50.380019Z",
     "start_time": "2022-02-09T04:13:50.176729Z"
    }
   },
   "outputs": [
    {
     "name": "stdout",
     "output_type": "stream",
     "text": [
      "{1, 2, 3, 4.5, 5, 'Eng', 'Male', 'Female', 'IND', 'Aus'}\n"
     ]
    }
   ],
   "source": [
    "my_set = {\"IND\", \"Aus\", \"Eng\",1, 2, 3, 4.5, 5, \"Male\", \"Female\" }\n",
    "print(my_set)"
   ]
  },
  {
   "cell_type": "code",
   "execution_count": 204,
   "id": "e977ae81",
   "metadata": {
    "ExecuteTime": {
     "end_time": "2022-02-09T04:13:50.522377Z",
     "start_time": "2022-02-09T04:13:50.385005Z"
    }
   },
   "outputs": [
    {
     "name": "stdout",
     "output_type": "stream",
     "text": [
      "{1.1, 2, 3, 4, 5, 'Eng', 'Male', (1, 2), 'Female', 'IND', 'Aus'}\n"
     ]
    }
   ],
   "source": [
    "my_set1 = {\"IND\", \"Aus\", \"Eng\",1.1, 2, 3, 4, 5, \"Male\", \"Female\", (1,2)}\n",
    "print(my_set1)"
   ]
  },
  {
   "cell_type": "code",
   "execution_count": 205,
   "id": "200911ca",
   "metadata": {
    "ExecuteTime": {
     "end_time": "2022-02-09T04:13:50.725614Z",
     "start_time": "2022-02-09T04:13:50.528200Z"
    }
   },
   "outputs": [
    {
     "data": {
      "text/plain": [
       "set"
      ]
     },
     "execution_count": 205,
     "metadata": {},
     "output_type": "execute_result"
    }
   ],
   "source": [
    "type(my_set)"
   ]
  },
  {
   "cell_type": "code",
   "execution_count": 206,
   "id": "5d43fb88",
   "metadata": {
    "ExecuteTime": {
     "end_time": "2022-02-09T04:13:50.895048Z",
     "start_time": "2022-02-09T04:13:50.727611Z"
    }
   },
   "outputs": [
    {
     "ename": "SyntaxError",
     "evalue": "invalid syntax (<ipython-input-206-bc6317ac764a>, line 3)",
     "output_type": "error",
     "traceback": [
      "\u001b[1;36m  File \u001b[1;32m\"<ipython-input-206-bc6317ac764a>\"\u001b[1;36m, line \u001b[1;32m3\u001b[0m\n\u001b[1;33m    dict1 =\u001b[0m\n\u001b[1;37m            ^\u001b[0m\n\u001b[1;31mSyntaxError\u001b[0m\u001b[1;31m:\u001b[0m invalid syntax\n"
     ]
    }
   ],
   "source": [
    "#Dictionary\n",
    "\n",
    "dict1 = "
   ]
  },
  {
   "cell_type": "markdown",
   "id": "73eb78f3",
   "metadata": {},
   "source": [
    "## Day 2 python training"
   ]
  },
  {
   "cell_type": "code",
   "execution_count": null,
   "id": "25757cc5",
   "metadata": {
    "ExecuteTime": {
     "end_time": "2022-02-09T04:13:50.898039Z",
     "start_time": "2022-02-09T04:13:46.623Z"
    }
   },
   "outputs": [],
   "source": [
    "#string\n",
    "\n",
    "string1 = \"{1}, {0}, {2}\".format('Welcome', 'to', 'UST')\n",
    "print('npostional order:')\n",
    "print(string1)"
   ]
  },
  {
   "cell_type": "code",
   "execution_count": null,
   "id": "624de315",
   "metadata": {
    "ExecuteTime": {
     "end_time": "2022-02-09T04:13:50.901033Z",
     "start_time": "2022-02-09T04:13:46.625Z"
    }
   },
   "outputs": [],
   "source": [
    "A = 10 \n",
    "B = float(A)\n",
    "print(B)"
   ]
  },
  {
   "cell_type": "code",
   "execution_count": null,
   "id": "17ceb9a1",
   "metadata": {
    "ExecuteTime": {
     "end_time": "2022-02-09T04:13:50.904024Z",
     "start_time": "2022-02-09T04:13:46.627Z"
    }
   },
   "outputs": [],
   "source": [
    "type(B)"
   ]
  },
  {
   "cell_type": "code",
   "execution_count": null,
   "id": "b7bf9342",
   "metadata": {
    "ExecuteTime": {
     "end_time": "2022-02-09T04:13:50.908017Z",
     "start_time": "2022-02-09T04:13:46.630Z"
    }
   },
   "outputs": [],
   "source": [
    "A = 100.789\n",
    "B = int(A)\n",
    "print(B)"
   ]
  },
  {
   "cell_type": "code",
   "execution_count": null,
   "id": "42ab0aae",
   "metadata": {
    "ExecuteTime": {
     "end_time": "2022-02-09T04:13:50.911004Z",
     "start_time": "2022-02-09T04:13:46.633Z"
    }
   },
   "outputs": [],
   "source": [
    "type(B)"
   ]
  },
  {
   "cell_type": "code",
   "execution_count": null,
   "id": "7d3bd60c",
   "metadata": {
    "ExecuteTime": {
     "end_time": "2022-02-09T04:13:50.913002Z",
     "start_time": "2022-02-09T04:13:46.635Z"
    }
   },
   "outputs": [],
   "source": [
    "a = [1,2,3,4,12,8]\n",
    "a.remove(12)\n",
    "print(a)"
   ]
  },
  {
   "cell_type": "code",
   "execution_count": null,
   "id": "abeb8f05",
   "metadata": {
    "ExecuteTime": {
     "end_time": "2022-02-09T04:13:50.914993Z",
     "start_time": "2022-02-09T04:13:46.637Z"
    }
   },
   "outputs": [],
   "source": [
    "# In order to remove duplicates\n",
    "\n",
    "list1 = ['a', 'b', 'c', 'd', 'b', 'c']\n",
    "b = list(dict.fromkeys(list1))\n",
    "print(b)"
   ]
  },
  {
   "cell_type": "code",
   "execution_count": null,
   "id": "0d10bcf7",
   "metadata": {
    "ExecuteTime": {
     "end_time": "2022-02-09T04:13:50.916990Z",
     "start_time": "2022-02-09T04:13:46.640Z"
    }
   },
   "outputs": [],
   "source": [
    "mylist2 = ['Barcelona', 'Madrid', 'Bayern', 'Manchester United', 'PSG']\n",
    "print(mylist2[1:3])"
   ]
  },
  {
   "cell_type": "code",
   "execution_count": null,
   "id": "bbcb9caf",
   "metadata": {
    "ExecuteTime": {
     "end_time": "2022-02-09T04:13:50.918985Z",
     "start_time": "2022-02-09T04:13:46.644Z"
    }
   },
   "outputs": [],
   "source": [
    "print(mylist2[0:])"
   ]
  },
  {
   "cell_type": "code",
   "execution_count": null,
   "id": "ae9f5ea5",
   "metadata": {
    "ExecuteTime": {
     "end_time": "2022-02-09T04:13:50.927971Z",
     "start_time": "2022-02-09T04:13:46.647Z"
    }
   },
   "outputs": [],
   "source": [
    "print(mylist2[-3:-1])"
   ]
  },
  {
   "cell_type": "code",
   "execution_count": null,
   "id": "a1393104",
   "metadata": {
    "ExecuteTime": {
     "end_time": "2022-02-09T04:13:50.930952Z",
     "start_time": "2022-02-09T04:13:46.649Z"
    }
   },
   "outputs": [],
   "source": [
    "print(mylist2[-3:1])"
   ]
  },
  {
   "cell_type": "code",
   "execution_count": null,
   "id": "d090e283",
   "metadata": {
    "ExecuteTime": {
     "end_time": "2022-02-09T04:13:50.932945Z",
     "start_time": "2022-02-09T04:13:46.653Z"
    }
   },
   "outputs": [],
   "source": [
    "# To find particular item is present in a list\n",
    "\n",
    "mylist2 = ['Barcelona', 'Madrid', 'Bayern', 'Manchester United', 'PSG']\n",
    "\n",
    "if 'Barcelona' in mylist2:\n",
    "    print('Barcelona is present')\n"
   ]
  },
  {
   "cell_type": "code",
   "execution_count": null,
   "id": "38254664",
   "metadata": {
    "ExecuteTime": {
     "end_time": "2022-02-09T04:13:50.934940Z",
     "start_time": "2022-02-09T04:13:46.657Z"
    }
   },
   "outputs": [],
   "source": [
    "mylist2 = ['Barcelona', 'Madrid', 'Bayern', 'Manchester United', 'PSG']\n",
    "\n",
    "def team():\n",
    "    global mylist2\n",
    "    if 'Brazil' in mylist2:\n",
    "        print('Barcelona is present')\n",
    "    else:\n",
    "        print('Not available')\n",
    "team()"
   ]
  },
  {
   "cell_type": "code",
   "execution_count": null,
   "id": "5e292079",
   "metadata": {
    "ExecuteTime": {
     "end_time": "2022-02-09T04:13:50.936935Z",
     "start_time": "2022-02-09T04:13:46.663Z"
    }
   },
   "outputs": [],
   "source": [
    "# To insert items in a list\n",
    "\n",
    "mylist2 = ['Barcelona', 'Madrid', 'Bayern', 'Manchester United', 'PSG']\n",
    "\n",
    "mylist2.insert(1, 'Mancherster city')\n",
    "print(mylist2)"
   ]
  },
  {
   "cell_type": "code",
   "execution_count": null,
   "id": "fcd53bdc",
   "metadata": {
    "ExecuteTime": {
     "end_time": "2022-02-09T04:13:50.940925Z",
     "start_time": "2022-02-09T04:13:46.666Z"
    }
   },
   "outputs": [],
   "source": [
    "# To add the item at the end of the list\n",
    "\n",
    "mylist2 = ['Barcelona', 'Madrid', 'Bayern', 'Manchester United', 'PSG']\n",
    "\n",
    "mylist2.append('Chealsea')\n",
    "\n",
    "print(mylist2)"
   ]
  },
  {
   "cell_type": "code",
   "execution_count": null,
   "id": "3a0557bc",
   "metadata": {
    "ExecuteTime": {
     "end_time": "2022-02-09T04:13:50.951895Z",
     "start_time": "2022-02-09T04:13:46.668Z"
    }
   },
   "outputs": [],
   "source": [
    "# To add the items in a list using Extend function\n",
    "\n",
    "list1 = ['MYSQL', 'Tableau', 'PowerBI']\n",
    "list2 = ['Python', 'Java', 'C++']\n",
    "\n",
    "list1.extend(list2)\n",
    "print(list1)"
   ]
  },
  {
   "cell_type": "code",
   "execution_count": null,
   "id": "4c976938",
   "metadata": {
    "ExecuteTime": {
     "end_time": "2022-02-09T04:13:50.952892Z",
     "start_time": "2022-02-09T04:13:46.671Z"
    }
   },
   "outputs": [],
   "source": [
    "# To remove particular items from the list \n",
    "\n",
    "code = ['MYSQL', 'Tableau', 'PowerBI', 'Python', 'Java', 'C++']\n",
    "code.remove('Java')\n",
    "print(code)"
   ]
  },
  {
   "cell_type": "code",
   "execution_count": null,
   "id": "ca6b0377",
   "metadata": {
    "ExecuteTime": {
     "end_time": "2022-02-09T04:13:50.955887Z",
     "start_time": "2022-02-09T04:13:46.674Z"
    }
   },
   "outputs": [],
   "source": [
    "# To remove items using index value\n",
    "\n",
    "code = ['MYSQL', 'Tableau', 'PowerBI', 'Python', 'Java', 'C++']\n",
    "\n",
    "code.pop(2)\n",
    "print(code)"
   ]
  },
  {
   "cell_type": "code",
   "execution_count": null,
   "id": "90b5705e",
   "metadata": {
    "ExecuteTime": {
     "end_time": "2022-02-09T04:13:50.958876Z",
     "start_time": "2022-02-09T04:13:46.677Z"
    }
   },
   "outputs": [],
   "source": [
    "code.pop()\n",
    "print(code)"
   ]
  },
  {
   "cell_type": "code",
   "execution_count": null,
   "id": "f8aa3ec6",
   "metadata": {
    "ExecuteTime": {
     "end_time": "2022-02-09T04:13:50.960872Z",
     "start_time": "2022-02-09T04:13:46.680Z"
    }
   },
   "outputs": [],
   "source": [
    "code = ['MYSQL', 'Tableau', 'PowerBI', 'Python', 'Java', 'C++']\n",
    "\n",
    "for i in code:\n",
    "    print(i)"
   ]
  },
  {
   "cell_type": "code",
   "execution_count": null,
   "id": "e7071c85",
   "metadata": {
    "ExecuteTime": {
     "end_time": "2022-02-09T04:13:50.962866Z",
     "start_time": "2022-02-09T04:13:46.682Z"
    }
   },
   "outputs": [],
   "source": [
    "code = ['MYSQL', 'Tableau', 'PowerBI', 'Python', 'Java', 'C++']\n",
    "\n",
    "i = 0\n",
    "while i <len(code):\n",
    "    print(code[i])\n",
    "    i = i+1"
   ]
  },
  {
   "cell_type": "code",
   "execution_count": null,
   "id": "13373943",
   "metadata": {
    "ExecuteTime": {
     "end_time": "2022-02-09T04:13:50.965857Z",
     "start_time": "2022-02-09T04:13:46.684Z"
    }
   },
   "outputs": [],
   "source": [
    "num_list = [100, 20, 45, 50, 1, 8, 7, 6 , 9]\n",
    "\n",
    "num_list.sort()\n",
    "print(num_list)"
   ]
  },
  {
   "cell_type": "code",
   "execution_count": null,
   "id": "2f91857f",
   "metadata": {
    "ExecuteTime": {
     "end_time": "2022-02-09T04:13:50.967851Z",
     "start_time": "2022-02-09T04:13:46.689Z"
    }
   },
   "outputs": [],
   "source": [
    "num_list = [100, 20, 45, 50, 1, 8, 7, 6 , 9]\n",
    "\n",
    "num_list.sort(reverse= True)\n",
    "print(num_list)"
   ]
  },
  {
   "cell_type": "code",
   "execution_count": null,
   "id": "cd33be0d",
   "metadata": {
    "ExecuteTime": {
     "end_time": "2022-02-09T04:13:50.969847Z",
     "start_time": "2022-02-09T04:13:46.693Z"
    }
   },
   "outputs": [],
   "source": [
    "# Sort function is a case sensitive"
   ]
  },
  {
   "cell_type": "code",
   "execution_count": null,
   "id": "dd047f30",
   "metadata": {
    "ExecuteTime": {
     "end_time": "2022-02-09T04:13:50.971842Z",
     "start_time": "2022-02-09T04:13:46.696Z"
    }
   },
   "outputs": [],
   "source": [
    "# To copy a list\n",
    "\n"
   ]
  },
  {
   "cell_type": "code",
   "execution_count": null,
   "id": "ccb4722a",
   "metadata": {
    "ExecuteTime": {
     "end_time": "2022-02-09T04:13:50.976834Z",
     "start_time": "2022-02-09T04:13:46.698Z"
    }
   },
   "outputs": [],
   "source": [
    "i = 0\n",
    "\n",
    "while i < 5:\n",
    "    print(i*'*')\n",
    "    i = i+1\n",
    "    \n",
    "i = 5\n",
    "\n",
    "while i > 0:\n",
    "    print(i*'*')\n",
    "    i = i-1\n"
   ]
  },
  {
   "cell_type": "code",
   "execution_count": null,
   "id": "1a425243",
   "metadata": {
    "ExecuteTime": {
     "end_time": "2022-02-09T04:13:50.980821Z",
     "start_time": "2022-02-09T04:13:46.700Z"
    }
   },
   "outputs": [],
   "source": [
    "# Sets cannot have dupicates items\n",
    "myset = {'Messi', 'Ronaldo', 'Neymar', 'kaka', 'suarez', 'Neymar'}\n",
    "\n",
    "print(myset)"
   ]
  },
  {
   "cell_type": "code",
   "execution_count": null,
   "id": "42e592ef",
   "metadata": {
    "ExecuteTime": {
     "end_time": "2022-02-09T04:13:50.983810Z",
     "start_time": "2022-02-09T04:13:46.703Z"
    }
   },
   "outputs": [],
   "source": [
    "myset = {'Messi', 'Ronaldo', 'Neymar', 'kaka', 'suarez'}\n",
    "\n",
    "myset.remove('Messi')\n",
    "\n",
    "print(myset)"
   ]
  },
  {
   "cell_type": "code",
   "execution_count": null,
   "id": "1b54cfad",
   "metadata": {
    "ExecuteTime": {
     "end_time": "2022-02-09T04:13:50.985805Z",
     "start_time": "2022-02-09T04:13:46.707Z"
    }
   },
   "outputs": [],
   "source": [
    "# Dictionary\n",
    "\n",
    "my_dict = {\n",
    "            \"Brand\" : \"Audi\",\n",
    "             \"Model\" : \"AudiR8\",\n",
    "              \"year\" : 1983}\n",
    "\n",
    "print(my_dict)"
   ]
  },
  {
   "cell_type": "code",
   "execution_count": null,
   "id": "271e719e",
   "metadata": {
    "ExecuteTime": {
     "end_time": "2022-02-09T04:13:50.987801Z",
     "start_time": "2022-02-09T04:13:46.711Z"
    }
   },
   "outputs": [],
   "source": [
    "print(my_dict[\"Brand\"])"
   ]
  },
  {
   "cell_type": "code",
   "execution_count": null,
   "id": "dee127a3",
   "metadata": {
    "ExecuteTime": {
     "end_time": "2022-02-09T04:13:50.989793Z",
     "start_time": "2022-02-09T04:13:46.713Z"
    }
   },
   "outputs": [],
   "source": [
    "# Dictionary doest allow dupicates values"
   ]
  },
  {
   "cell_type": "code",
   "execution_count": null,
   "id": "3d55f2f5",
   "metadata": {
    "ExecuteTime": {
     "end_time": "2022-02-09T04:13:50.991788Z",
     "start_time": "2022-02-09T04:13:46.716Z"
    }
   },
   "outputs": [],
   "source": [
    "# To get only keys\n",
    "\n",
    "print(my_dict.keys())"
   ]
  },
  {
   "cell_type": "code",
   "execution_count": null,
   "id": "b289cfca",
   "metadata": {
    "ExecuteTime": {
     "end_time": "2022-02-09T04:13:50.993782Z",
     "start_time": "2022-02-09T04:13:46.718Z"
    }
   },
   "outputs": [],
   "source": [
    "# To get only values from the dictionary\n",
    "\n",
    "print(my_dict.values())"
   ]
  },
  {
   "cell_type": "code",
   "execution_count": null,
   "id": "847fd1ac",
   "metadata": {
    "ExecuteTime": {
     "end_time": "2022-02-09T04:13:50.996775Z",
     "start_time": "2022-02-09T04:13:46.722Z"
    }
   },
   "outputs": [],
   "source": [
    "# need to do changes in the dictionary\n",
    "\n",
    "\n",
    "my_dict = {\n",
    "            \"Brand\" : \"Audi\",\n",
    "             \"Model\" : \"AudiR8\",\n",
    "              \"year\" : 1983}\n",
    "\n",
    "my_dict[\"Brand\"] = \"Maruthi\"\n",
    "print(my_dict)"
   ]
  },
  {
   "cell_type": "code",
   "execution_count": null,
   "id": "65863bbc",
   "metadata": {
    "ExecuteTime": {
     "end_time": "2022-02-09T04:13:50.998770Z",
     "start_time": "2022-02-09T04:13:46.724Z"
    }
   },
   "outputs": [],
   "source": [
    "# multiline srting\n",
    "\n",
    "a = \"\"\"dfdfjfldjfajfsdlkfj\n",
    "dfglkdjgdsjgdsgjdkglk\n",
    "djgnldhsgsjflakdapks\"\"\"\n",
    "\n",
    "print(a)"
   ]
  },
  {
   "cell_type": "code",
   "execution_count": null,
   "id": "f9fd45fd",
   "metadata": {
    "ExecuteTime": {
     "end_time": "2022-02-09T04:13:51.000764Z",
     "start_time": "2022-02-09T04:13:46.726Z"
    }
   },
   "outputs": [],
   "source": [
    "a = \"Hello, World\"\n",
    "\n",
    "#print(a[2:5])\n",
    "#print(a[:5])\n",
    "print(a[:8:2])"
   ]
  },
  {
   "cell_type": "code",
   "execution_count": null,
   "id": "119ef45c",
   "metadata": {
    "ExecuteTime": {
     "end_time": "2022-02-09T04:13:51.002758Z",
     "start_time": "2022-02-09T04:13:46.728Z"
    }
   },
   "outputs": [],
   "source": [
    "a = \"Hello, World\"\n",
    "\n",
    "print(a.upper())"
   ]
  },
  {
   "cell_type": "code",
   "execution_count": null,
   "id": "db7d19ac",
   "metadata": {
    "ExecuteTime": {
     "end_time": "2022-02-09T04:13:51.004754Z",
     "start_time": "2022-02-09T04:13:46.730Z"
    }
   },
   "outputs": [],
   "source": [
    "print(a.lower())"
   ]
  },
  {
   "cell_type": "code",
   "execution_count": null,
   "id": "4f42e450",
   "metadata": {
    "ExecuteTime": {
     "end_time": "2022-02-09T04:13:51.007760Z",
     "start_time": "2022-02-09T04:13:46.732Z"
    }
   },
   "outputs": [],
   "source": [
    "a = \"Hello, World\"\n",
    "\n",
    "print(a.replace(\"o\", \"s\"))"
   ]
  },
  {
   "cell_type": "code",
   "execution_count": null,
   "id": "727f4783",
   "metadata": {
    "ExecuteTime": {
     "end_time": "2022-02-09T04:13:51.009740Z",
     "start_time": "2022-02-09T04:13:46.734Z"
    }
   },
   "outputs": [],
   "source": [
    "# Concatination\n",
    "\n",
    "a = \"Hello\"\n",
    "b = \"world\"\n",
    "\n",
    "c = a + b\n",
    "print(c)"
   ]
  },
  {
   "cell_type": "code",
   "execution_count": null,
   "id": "dd9e3f3f",
   "metadata": {
    "ExecuteTime": {
     "end_time": "2022-02-09T04:13:51.011738Z",
     "start_time": "2022-02-09T04:13:46.736Z"
    }
   },
   "outputs": [],
   "source": [
    "num_list_1 = [1,2,3,4]\n",
    "\n",
    "for i in num_list_1:\n",
    "    print(i)"
   ]
  },
  {
   "cell_type": "code",
   "execution_count": null,
   "id": "44eda8a6",
   "metadata": {
    "ExecuteTime": {
     "end_time": "2022-02-09T04:13:51.014726Z",
     "start_time": "2022-02-09T04:13:46.738Z"
    }
   },
   "outputs": [],
   "source": [
    "num_list_1 = [1,2,3,4]\n",
    "\n",
    "i = 0\n",
    "\n",
    "while i< len(num_list_1):\n",
    "    print(num_list_1[i])\n",
    "    i = i+1"
   ]
  },
  {
   "cell_type": "code",
   "execution_count": null,
   "id": "7daa9d30",
   "metadata": {
    "ExecuteTime": {
     "end_time": "2022-02-09T04:13:51.016721Z",
     "start_time": "2022-02-09T04:13:46.741Z"
    }
   },
   "outputs": [],
   "source": [
    "num_list_1 = [1,2,3,4]\n",
    "\n",
    "i = 4\n",
    "\n",
    "while i< len(num_list_1):\n",
    "    print(num_list_1[i])\n",
    "    i = i-1"
   ]
  },
  {
   "cell_type": "code",
   "execution_count": null,
   "id": "2ac1818a",
   "metadata": {
    "ExecuteTime": {
     "end_time": "2022-02-09T04:13:51.018716Z",
     "start_time": "2022-02-09T04:13:46.744Z"
    }
   },
   "outputs": [],
   "source": [
    "def reverse(s):\n",
    "  str = \"\"\n",
    "  for i in s:\n",
    "    str = i + str\n",
    "  return str\n",
    "  \n",
    "s = \"hello world...!!\"\n",
    "  \n",
    "#print (\"The original string  is : \",end=\"\")\n",
    "#print (s)\n",
    "  \n",
    "print (\"The reversed string(using loops) is : \",end=\"\")\n",
    "print (reverse(s))"
   ]
  },
  {
   "cell_type": "code",
   "execution_count": null,
   "id": "661821bf",
   "metadata": {
    "ExecuteTime": {
     "end_time": "2022-02-09T04:13:51.020712Z",
     "start_time": "2022-02-09T04:13:46.746Z"
    }
   },
   "outputs": [],
   "source": [
    "Tuple = (\"python\", 1, 2 ,3)\n",
    "\n",
    "print(Tuple)"
   ]
  },
  {
   "cell_type": "code",
   "execution_count": null,
   "id": "275a0a1f",
   "metadata": {
    "ExecuteTime": {
     "end_time": "2022-02-09T04:13:51.023703Z",
     "start_time": "2022-02-09T04:13:46.748Z"
    }
   },
   "outputs": [],
   "source": [
    "A = list(Tuple)\n",
    "print(A)"
   ]
  },
  {
   "cell_type": "code",
   "execution_count": null,
   "id": "25bdee26",
   "metadata": {
    "ExecuteTime": {
     "end_time": "2022-02-09T04:13:51.028694Z",
     "start_time": "2022-02-09T04:13:46.749Z"
    }
   },
   "outputs": [],
   "source": [
    "A.insert(2, \"MYSQL\")\n",
    "\n",
    "print(A)"
   ]
  },
  {
   "cell_type": "code",
   "execution_count": null,
   "id": "a2d2b6bb",
   "metadata": {
    "ExecuteTime": {
     "end_time": "2022-02-09T04:13:51.032679Z",
     "start_time": "2022-02-09T04:13:46.752Z"
    }
   },
   "outputs": [],
   "source": [
    "Tuple = tuple(A)\n",
    "print(Tuple)"
   ]
  },
  {
   "cell_type": "markdown",
   "id": "4fdd7e0e",
   "metadata": {},
   "source": [
    "## Day 3 python Training"
   ]
  },
  {
   "cell_type": "code",
   "execution_count": 208,
   "id": "794c66fb",
   "metadata": {
    "ExecuteTime": {
     "end_time": "2022-02-09T04:14:34.003759Z",
     "start_time": "2022-02-09T04:14:33.989774Z"
    }
   },
   "outputs": [
    {
     "name": "stdout",
     "output_type": "stream",
     "text": [
      "b is greater than a\n"
     ]
    }
   ],
   "source": [
    "a = 33\n",
    "b = 35\n",
    "if b > a:\n",
    "    print(\"b is greater than a\")"
   ]
  },
  {
   "cell_type": "code",
   "execution_count": 209,
   "id": "b3aff46a",
   "metadata": {
    "ExecuteTime": {
     "end_time": "2022-02-09T04:16:11.672131Z",
     "start_time": "2022-02-09T04:16:11.664152Z"
    }
   },
   "outputs": [
    {
     "name": "stdout",
     "output_type": "stream",
     "text": [
      "a and b are equal\n"
     ]
    }
   ],
   "source": [
    "a = 33\n",
    "b = 33\n",
    "if b > a:\n",
    "    print(\"b is greater than a\")\n",
    "elif a == b:\n",
    "    print (\"a and b are equal\")"
   ]
  },
  {
   "cell_type": "code",
   "execution_count": 210,
   "id": "f09186c7",
   "metadata": {
    "ExecuteTime": {
     "end_time": "2022-02-09T04:17:31.347466Z",
     "start_time": "2022-02-09T04:17:31.328514Z"
    }
   },
   "outputs": [
    {
     "name": "stdout",
     "output_type": "stream",
     "text": [
      "a is greater than b\n"
     ]
    }
   ],
   "source": [
    "a = 200\n",
    "b = 33\n",
    "if b > a:\n",
    "    print(\"b is greater than a\")\n",
    "elif a == b:\n",
    "    print (\"a and b are equal\")\n",
    "else:\n",
    "    print (\"a is greater than b\")"
   ]
  },
  {
   "cell_type": "code",
   "execution_count": 211,
   "id": "d73e97a0",
   "metadata": {
    "ExecuteTime": {
     "end_time": "2022-02-09T04:21:39.967905Z",
     "start_time": "2022-02-09T04:21:39.950951Z"
    }
   },
   "outputs": [
    {
     "name": "stdout",
     "output_type": "stream",
     "text": [
      "Above ten\n",
      "also above 20\n"
     ]
    }
   ],
   "source": [
    "x = 41\n",
    "if x>10:\n",
    "    print(\"Above ten\")\n",
    "    if x>20:\n",
    "        print(\"also above 20\")\n",
    "    else:\n",
    "        print(\"but not above 20\")"
   ]
  },
  {
   "cell_type": "code",
   "execution_count": 212,
   "id": "1857064d",
   "metadata": {
    "ExecuteTime": {
     "end_time": "2022-02-09T04:26:27.179125Z",
     "start_time": "2022-02-09T04:26:27.142225Z"
    }
   },
   "outputs": [
    {
     "name": "stdout",
     "output_type": "stream",
     "text": [
      "red apple\n",
      "red banana\n",
      "red grapes\n",
      "yellow apple\n",
      "yellow banana\n",
      "yellow grapes\n",
      "green apple\n",
      "green banana\n",
      "green grapes\n"
     ]
    }
   ],
   "source": [
    "colour = [\"red\", \"yellow\", \"green\"]\n",
    "fruits = [\"apple\", \"banana\", \"grapes\"]\n",
    "for x in colour:\n",
    "    for y in fruits:\n",
    "        print(x,y)"
   ]
  },
  {
   "cell_type": "code",
   "execution_count": 214,
   "id": "5393ad18",
   "metadata": {
    "ExecuteTime": {
     "end_time": "2022-02-09T04:29:16.102176Z",
     "start_time": "2022-02-09T04:29:16.083227Z"
    }
   },
   "outputs": [
    {
     "name": "stdout",
     "output_type": "stream",
     "text": [
      "Hello World\n"
     ]
    }
   ],
   "source": [
    "def myfunct():\n",
    "    print(\"Hello World\")\n",
    "    \n",
    "myfunct()"
   ]
  },
  {
   "cell_type": "code",
   "execution_count": null,
   "id": "56b75f12",
   "metadata": {},
   "outputs": [],
   "source": [
    "colour = [\"red\", \"yellow\", \"green\"]\n",
    "fruits = [\"apple\", \"banana\", \"grapes\"]\n",
    "for x in colour:\n",
    "    for y in fruits:\n",
    "        if x == y:\n",
    "                print(x,y)"
   ]
  },
  {
   "cell_type": "code",
   "execution_count": null,
   "id": "c12c3447",
   "metadata": {},
   "outputs": [],
   "source": []
  }
 ],
 "metadata": {
  "kernelspec": {
   "display_name": "Python 3",
   "language": "python",
   "name": "python3"
  },
  "language_info": {
   "codemirror_mode": {
    "name": "ipython",
    "version": 3
   },
   "file_extension": ".py",
   "mimetype": "text/x-python",
   "name": "python",
   "nbconvert_exporter": "python",
   "pygments_lexer": "ipython3",
   "version": "3.8.8"
  }
 },
 "nbformat": 4,
 "nbformat_minor": 5
}
