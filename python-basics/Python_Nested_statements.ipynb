{
 "cells": [
  {
   "cell_type": "markdown",
   "id": "b508ab22",
   "metadata": {},
   "source": [
    "### Scope of the variables"
   ]
  },
  {
   "cell_type": "markdown",
   "id": "3ee9e3ed",
   "metadata": {
    "ExecuteTime": {
     "end_time": "2022-02-15T04:07:24.618556Z",
     "start_time": "2022-02-15T04:07:24.600603Z"
    }
   },
   "source": [
    "### Local Variables : When you declare variables inside a function definition."
   ]
  },
  {
   "cell_type": "code",
   "execution_count": 4,
   "id": "32f62eb4",
   "metadata": {
    "ExecuteTime": {
     "end_time": "2022-02-15T04:17:23.922368Z",
     "start_time": "2022-02-15T04:17:23.897438Z"
    }
   },
   "outputs": [
    {
     "ename": "NameError",
     "evalue": "name 'a' is not defined",
     "output_type": "error",
     "traceback": [
      "\u001b[1;31m---------------------------------------------------------------------------\u001b[0m",
      "\u001b[1;31mNameError\u001b[0m                                 Traceback (most recent call last)",
      "\u001b[1;32m<ipython-input-4-1dadb820e234>\u001b[0m in \u001b[0;36m<module>\u001b[1;34m\u001b[0m\n\u001b[0;32m      5\u001b[0m     \u001b[1;31m#print(\"a :\", a)\u001b[0m\u001b[1;33m\u001b[0m\u001b[1;33m\u001b[0m\u001b[1;33m\u001b[0m\u001b[0m\n\u001b[0;32m      6\u001b[0m \u001b[0mlocal\u001b[0m\u001b[1;33m(\u001b[0m\u001b[1;33m)\u001b[0m\u001b[1;33m\u001b[0m\u001b[1;33m\u001b[0m\u001b[0m\n\u001b[1;32m----> 7\u001b[1;33m \u001b[0mprint\u001b[0m\u001b[1;33m(\u001b[0m\u001b[1;34m\"a :\"\u001b[0m\u001b[1;33m,\u001b[0m \u001b[0ma\u001b[0m\u001b[1;33m)\u001b[0m\u001b[1;33m\u001b[0m\u001b[1;33m\u001b[0m\u001b[0m\n\u001b[0m",
      "\u001b[1;31mNameError\u001b[0m: name 'a' is not defined"
     ]
    }
   ],
   "source": [
    "def local():\n",
    "    \n",
    "    a = 20  # Local Variables\n",
    "    \n",
    "    #print(\"a :\", a)\n",
    "local()\n",
    "print(\"a :\", a)"
   ]
  },
  {
   "cell_type": "code",
   "execution_count": null,
   "id": "316e5209",
   "metadata": {
    "ExecuteTime": {
     "end_time": "2022-02-13T09:06:11.956130Z",
     "start_time": "2022-02-13T09:06:11.928146Z"
    }
   },
   "outputs": [],
   "source": [
    "def local():\n",
    "    \n",
    "    a = 20  # Local Variables\n",
    "    \n",
    "    print(\"a :\", a)\n",
    "local()\n",
    "\n",
    "print(a) # This means you cannot declare the local variable outside the function\n",
    "         # Scope of the 'a' variable is inside the function itself"
   ]
  },
  {
   "cell_type": "code",
   "execution_count": 5,
   "id": "8bd8262c",
   "metadata": {
    "ExecuteTime": {
     "end_time": "2022-02-15T04:18:38.698549Z",
     "start_time": "2022-02-15T04:18:38.678604Z"
    }
   },
   "outputs": [
    {
     "name": "stdout",
     "output_type": "stream",
     "text": [
      "The value of a : 20\n",
      "The value of b inside function : 30\n",
      "The value b outside the function : 30\n"
     ]
    }
   ],
   "source": [
    "b = 30  # Global variables\n",
    "\n",
    "def func():\n",
    "    a = 20\n",
    "    print(\"The value of a :\", a)\n",
    "    print(\"The value of b inside function :\", b) # Global variable can access in inside the function\n",
    "    \n",
    "func()\n",
    "print(\"The value b outside the function :\", b) # Global variable can access in outsideside the function"
   ]
  },
  {
   "cell_type": "markdown",
   "id": "9bfaeb4d",
   "metadata": {},
   "source": [
    "## Global Variables"
   ]
  },
  {
   "cell_type": "code",
   "execution_count": null,
   "id": "23613185",
   "metadata": {},
   "outputs": [],
   "source": [
    "# Global Variables: The variables declared outside of the function\n",
    "# The scope of the global variable is that global variable can access anywhere in the program "
   ]
  },
  {
   "cell_type": "code",
   "execution_count": 6,
   "id": "ae239ec7",
   "metadata": {
    "ExecuteTime": {
     "end_time": "2022-02-15T04:19:45.521652Z",
     "start_time": "2022-02-15T04:19:45.502707Z"
    }
   },
   "outputs": [
    {
     "name": "stdout",
     "output_type": "stream",
     "text": [
      "g : 100\n",
      "g : 100\n"
     ]
    }
   ],
   "source": [
    "g = 100 # Global Variables\n",
    "\n",
    "def global_fun():\n",
    "    \n",
    "    print(\"g :\", g)\n",
    "\n",
    "global_fun()\n",
    "print(\"g :\", g)"
   ]
  },
  {
   "cell_type": "code",
   "execution_count": 8,
   "id": "b082c7d6",
   "metadata": {
    "ExecuteTime": {
     "end_time": "2022-02-15T04:21:14.654594Z",
     "start_time": "2022-02-15T04:21:14.639636Z"
    }
   },
   "outputs": [
    {
     "name": "stdout",
     "output_type": "stream",
     "text": [
      "The value of x : 30\n"
     ]
    }
   ],
   "source": [
    "x = 30 # Global Variable\n",
    "\n",
    "def number():\n",
    "    \n",
    "    #x = 20 # Local variable\n",
    "    \n",
    "    print(\"The value of x :\", x)\n",
    "    #print(\"The value x of inside func :\", x)\n",
    "\n",
    "number()\n",
    "#print(\"The value of x :\", x)"
   ]
  },
  {
   "cell_type": "code",
   "execution_count": null,
   "id": "7b3395a4",
   "metadata": {
    "ExecuteTime": {
     "end_time": "2022-02-13T09:23:04.903151Z",
     "start_time": "2022-02-13T09:23:04.891152Z"
    }
   },
   "outputs": [],
   "source": [
    "# L - Local\n",
    "# E - Enclosing\n",
    "# G - Global\n",
    "# B - Built-in"
   ]
  },
  {
   "cell_type": "markdown",
   "id": "d0524ab6",
   "metadata": {},
   "source": [
    "## Global statement"
   ]
  },
  {
   "cell_type": "code",
   "execution_count": 9,
   "id": "889d9ee9",
   "metadata": {
    "ExecuteTime": {
     "end_time": "2022-02-15T04:21:56.951596Z",
     "start_time": "2022-02-15T04:21:56.897739Z"
    }
   },
   "outputs": [
    {
     "ename": "UnboundLocalError",
     "evalue": "local variable 'b' referenced before assignment",
     "output_type": "error",
     "traceback": [
      "\u001b[1;31m---------------------------------------------------------------------------\u001b[0m",
      "\u001b[1;31mUnboundLocalError\u001b[0m                         Traceback (most recent call last)",
      "\u001b[1;32m<ipython-input-9-3047760e56c2>\u001b[0m in \u001b[0;36m<module>\u001b[1;34m\u001b[0m\n\u001b[0;32m      5\u001b[0m     \u001b[0mprint\u001b[0m\u001b[1;33m(\u001b[0m\u001b[1;34m\" The value of b :\"\u001b[0m\u001b[1;33m,\u001b[0m \u001b[0mb\u001b[0m\u001b[1;33m)\u001b[0m\u001b[1;33m\u001b[0m\u001b[1;33m\u001b[0m\u001b[0m\n\u001b[0;32m      6\u001b[0m \u001b[1;33m\u001b[0m\u001b[0m\n\u001b[1;32m----> 7\u001b[1;33m \u001b[0mglobal_stat\u001b[0m\u001b[1;33m(\u001b[0m\u001b[1;33m)\u001b[0m\u001b[1;33m\u001b[0m\u001b[1;33m\u001b[0m\u001b[0m\n\u001b[0m",
      "\u001b[1;32m<ipython-input-9-3047760e56c2>\u001b[0m in \u001b[0;36mglobal_stat\u001b[1;34m()\u001b[0m\n\u001b[0;32m      2\u001b[0m \u001b[1;33m\u001b[0m\u001b[0m\n\u001b[0;32m      3\u001b[0m \u001b[1;32mdef\u001b[0m \u001b[0mglobal_stat\u001b[0m\u001b[1;33m(\u001b[0m\u001b[1;33m)\u001b[0m\u001b[1;33m:\u001b[0m\u001b[1;33m\u001b[0m\u001b[1;33m\u001b[0m\u001b[0m\n\u001b[1;32m----> 4\u001b[1;33m     \u001b[0mb\u001b[0m \u001b[1;33m=\u001b[0m \u001b[0mb\u001b[0m\u001b[1;33m+\u001b[0m\u001b[1;36m1\u001b[0m\u001b[1;33m\u001b[0m\u001b[1;33m\u001b[0m\u001b[0m\n\u001b[0m\u001b[0;32m      5\u001b[0m     \u001b[0mprint\u001b[0m\u001b[1;33m(\u001b[0m\u001b[1;34m\" The value of b :\"\u001b[0m\u001b[1;33m,\u001b[0m \u001b[0mb\u001b[0m\u001b[1;33m)\u001b[0m\u001b[1;33m\u001b[0m\u001b[1;33m\u001b[0m\u001b[0m\n\u001b[0;32m      6\u001b[0m \u001b[1;33m\u001b[0m\u001b[0m\n",
      "\u001b[1;31mUnboundLocalError\u001b[0m: local variable 'b' referenced before assignment"
     ]
    }
   ],
   "source": [
    "b = 30\n",
    "\n",
    "def global_stat():\n",
    "    b = b+1\n",
    "    print(\" The value of b :\", b)\n",
    "    \n",
    "global_stat()"
   ]
  },
  {
   "cell_type": "code",
   "execution_count": 10,
   "id": "56482d14",
   "metadata": {
    "ExecuteTime": {
     "end_time": "2022-02-15T04:22:28.317214Z",
     "start_time": "2022-02-15T04:22:28.266351Z"
    }
   },
   "outputs": [
    {
     "name": "stdout",
     "output_type": "stream",
     "text": [
      "y before function : 30\n",
      "y inside function : 20\n",
      "y outside the function : 20\n"
     ]
    }
   ],
   "source": [
    "y = 30\n",
    "\n",
    "def num():\n",
    "    global y\n",
    "    y = 20\n",
    "    print(\"y inside function :\", y)\n",
    "    \n",
    "print(\"y before function :\", y)\n",
    "num()\n",
    "print(\"y outside the function :\", y)"
   ]
  },
  {
   "cell_type": "code",
   "execution_count": 11,
   "id": "7f5e2577",
   "metadata": {
    "ExecuteTime": {
     "end_time": "2022-02-15T04:23:20.360774Z",
     "start_time": "2022-02-15T04:23:20.354789Z"
    }
   },
   "outputs": [
    {
     "name": "stdout",
     "output_type": "stream",
     "text": [
      " The value of b : 31\n",
      "The global variable is : 31\n"
     ]
    }
   ],
   "source": [
    "b = 30\n",
    "\n",
    "def globalstat():\n",
    "    global b\n",
    "    b = b+1\n",
    "    print(\" The value of b :\", b)\n",
    "    \n",
    "globalstat()\n",
    "print(\"The global variable is :\", b)"
   ]
  },
  {
   "cell_type": "code",
   "execution_count": 12,
   "id": "ba93484f",
   "metadata": {
    "ExecuteTime": {
     "end_time": "2022-02-15T04:24:37.326773Z",
     "start_time": "2022-02-15T04:24:37.318793Z"
    }
   },
   "outputs": [
    {
     "name": "stdout",
     "output_type": "stream",
     "text": [
      "Hello Sammy\n"
     ]
    }
   ],
   "source": [
    "# Enclosing scope\n",
    "\n",
    "name = 'global name' #Global variable\n",
    "\n",
    "def greet():\n",
    "    \n",
    "    name = 'Sammy' # Enclosing function\n",
    "    \n",
    "    def hello():\n",
    "        print('Hello '+name) \n",
    "    \n",
    "    hello()\n",
    "\n",
    "greet()"
   ]
  },
  {
   "cell_type": "code",
   "execution_count": 14,
   "id": "ec6bce70",
   "metadata": {
    "ExecuteTime": {
     "end_time": "2022-02-15T04:25:55.401836Z",
     "start_time": "2022-02-15T04:25:55.376902Z"
    }
   },
   "outputs": [
    {
     "name": "stdout",
     "output_type": "stream",
     "text": [
      "Hello Samay Raina\n",
      "Samay Raina\n"
     ]
    }
   ],
   "source": [
    "# Enclosing scope\n",
    "\n",
    "name = 'global name' #Global variable\n",
    "\n",
    "def greet():\n",
    "    \n",
    "    name = 'Sammy' # Enclosing function\n",
    "    \n",
    "    def hello():\n",
    "        nonlocal name\n",
    "        name = 'Samay Raina'\n",
    "        print('Hello '+name) \n",
    "    \n",
    "    hello()\n",
    "    print(name)\n",
    "greet()\n",
    "#print(name)"
   ]
  },
  {
   "cell_type": "code",
   "execution_count": 1,
   "id": "a0dbf899",
   "metadata": {
    "ExecuteTime": {
     "end_time": "2022-02-15T04:28:11.970314Z",
     "start_time": "2022-02-15T04:28:11.690547Z"
    }
   },
   "outputs": [
    {
     "ename": "NameError",
     "evalue": "name 'x' is not defined",
     "output_type": "error",
     "traceback": [
      "\u001b[1;31m---------------------------------------------------------------------------\u001b[0m",
      "\u001b[1;31mNameError\u001b[0m                                 Traceback (most recent call last)",
      "\u001b[1;32m<ipython-input-1-12b744006699>\u001b[0m in \u001b[0;36m<module>\u001b[1;34m\u001b[0m\n\u001b[0;32m     10\u001b[0m     \u001b[0minner\u001b[0m\u001b[1;33m(\u001b[0m\u001b[1;33m)\u001b[0m\u001b[1;33m\u001b[0m\u001b[1;33m\u001b[0m\u001b[0m\n\u001b[0;32m     11\u001b[0m \u001b[1;33m\u001b[0m\u001b[0m\n\u001b[1;32m---> 12\u001b[1;33m \u001b[0mouter\u001b[0m\u001b[1;33m(\u001b[0m\u001b[1;33m)\u001b[0m\u001b[1;33m\u001b[0m\u001b[1;33m\u001b[0m\u001b[0m\n\u001b[0m",
      "\u001b[1;32m<ipython-input-1-12b744006699>\u001b[0m in \u001b[0;36mouter\u001b[1;34m()\u001b[0m\n\u001b[0;32m      8\u001b[0m         \u001b[0mprint\u001b[0m\u001b[1;33m(\u001b[0m\u001b[1;34m\"The value of x :\"\u001b[0m\u001b[1;33m,\u001b[0m \u001b[0mx\u001b[0m\u001b[1;33m)\u001b[0m\u001b[1;33m\u001b[0m\u001b[1;33m\u001b[0m\u001b[0m\n\u001b[0;32m      9\u001b[0m \u001b[1;33m\u001b[0m\u001b[0m\n\u001b[1;32m---> 10\u001b[1;33m     \u001b[0minner\u001b[0m\u001b[1;33m(\u001b[0m\u001b[1;33m)\u001b[0m\u001b[1;33m\u001b[0m\u001b[1;33m\u001b[0m\u001b[0m\n\u001b[0m\u001b[0;32m     11\u001b[0m \u001b[1;33m\u001b[0m\u001b[0m\n\u001b[0;32m     12\u001b[0m \u001b[0mouter\u001b[0m\u001b[1;33m(\u001b[0m\u001b[1;33m)\u001b[0m\u001b[1;33m\u001b[0m\u001b[1;33m\u001b[0m\u001b[0m\n",
      "\u001b[1;32m<ipython-input-1-12b744006699>\u001b[0m in \u001b[0;36minner\u001b[1;34m()\u001b[0m\n\u001b[0;32m      6\u001b[0m     \u001b[1;32mdef\u001b[0m \u001b[0minner\u001b[0m\u001b[1;33m(\u001b[0m\u001b[1;33m)\u001b[0m\u001b[1;33m:\u001b[0m\u001b[1;33m\u001b[0m\u001b[1;33m\u001b[0m\u001b[0m\n\u001b[0;32m      7\u001b[0m         \u001b[1;31m#x = 200\u001b[0m\u001b[1;33m\u001b[0m\u001b[1;33m\u001b[0m\u001b[1;33m\u001b[0m\u001b[0m\n\u001b[1;32m----> 8\u001b[1;33m         \u001b[0mprint\u001b[0m\u001b[1;33m(\u001b[0m\u001b[1;34m\"The value of x :\"\u001b[0m\u001b[1;33m,\u001b[0m \u001b[0mx\u001b[0m\u001b[1;33m)\u001b[0m\u001b[1;33m\u001b[0m\u001b[1;33m\u001b[0m\u001b[0m\n\u001b[0m\u001b[0;32m      9\u001b[0m \u001b[1;33m\u001b[0m\u001b[0m\n\u001b[0;32m     10\u001b[0m     \u001b[0minner\u001b[0m\u001b[1;33m(\u001b[0m\u001b[1;33m)\u001b[0m\u001b[1;33m\u001b[0m\u001b[1;33m\u001b[0m\u001b[0m\n",
      "\u001b[1;31mNameError\u001b[0m: name 'x' is not defined"
     ]
    }
   ],
   "source": [
    "#x = 500\n",
    "\n",
    "def outer():\n",
    "    #x =100\n",
    "    \n",
    "    def inner():\n",
    "        #x = 200\n",
    "        print(\"The value of x :\", x)\n",
    "    \n",
    "    inner()\n",
    "\n",
    "outer()"
   ]
  },
  {
   "cell_type": "code",
   "execution_count": 5,
   "id": "2fdef3b1",
   "metadata": {
    "ExecuteTime": {
     "end_time": "2022-02-15T04:30:36.031031Z",
     "start_time": "2022-02-15T04:30:36.007127Z"
    }
   },
   "outputs": [
    {
     "ename": "NameError",
     "evalue": "name 'x' is not defined",
     "output_type": "error",
     "traceback": [
      "\u001b[1;31m---------------------------------------------------------------------------\u001b[0m",
      "\u001b[1;31mNameError\u001b[0m                                 Traceback (most recent call last)",
      "\u001b[1;32m<ipython-input-5-e87858d319d1>\u001b[0m in \u001b[0;36m<module>\u001b[1;34m\u001b[0m\n\u001b[0;32m     12\u001b[0m     \u001b[0minner\u001b[0m\u001b[1;33m(\u001b[0m\u001b[1;33m)\u001b[0m\u001b[1;33m\u001b[0m\u001b[1;33m\u001b[0m\u001b[0m\n\u001b[0;32m     13\u001b[0m \u001b[1;33m\u001b[0m\u001b[0m\n\u001b[1;32m---> 14\u001b[1;33m \u001b[0mouter\u001b[0m\u001b[1;33m(\u001b[0m\u001b[1;33m)\u001b[0m\u001b[1;33m\u001b[0m\u001b[1;33m\u001b[0m\u001b[0m\n\u001b[0m\u001b[0;32m     15\u001b[0m \u001b[1;33m\u001b[0m\u001b[0m\n\u001b[0;32m     16\u001b[0m \u001b[0mpi\u001b[0m\u001b[1;33m\u001b[0m\u001b[1;33m\u001b[0m\u001b[0m\n",
      "\u001b[1;32m<ipython-input-5-e87858d319d1>\u001b[0m in \u001b[0;36mouter\u001b[1;34m()\u001b[0m\n\u001b[0;32m     10\u001b[0m         \u001b[0mprint\u001b[0m\u001b[1;33m(\u001b[0m\u001b[1;34m\"The value of x :\"\u001b[0m\u001b[1;33m,\u001b[0m \u001b[0mx\u001b[0m\u001b[1;33m)\u001b[0m\u001b[1;33m\u001b[0m\u001b[1;33m\u001b[0m\u001b[0m\n\u001b[0;32m     11\u001b[0m \u001b[1;33m\u001b[0m\u001b[0m\n\u001b[1;32m---> 12\u001b[1;33m     \u001b[0minner\u001b[0m\u001b[1;33m(\u001b[0m\u001b[1;33m)\u001b[0m\u001b[1;33m\u001b[0m\u001b[1;33m\u001b[0m\u001b[0m\n\u001b[0m\u001b[0;32m     13\u001b[0m \u001b[1;33m\u001b[0m\u001b[0m\n\u001b[0;32m     14\u001b[0m \u001b[0mouter\u001b[0m\u001b[1;33m(\u001b[0m\u001b[1;33m)\u001b[0m\u001b[1;33m\u001b[0m\u001b[1;33m\u001b[0m\u001b[0m\n",
      "\u001b[1;32m<ipython-input-5-e87858d319d1>\u001b[0m in \u001b[0;36minner\u001b[1;34m()\u001b[0m\n\u001b[0;32m      8\u001b[0m     \u001b[1;32mdef\u001b[0m \u001b[0minner\u001b[0m\u001b[1;33m(\u001b[0m\u001b[1;33m)\u001b[0m\u001b[1;33m:\u001b[0m\u001b[1;33m\u001b[0m\u001b[1;33m\u001b[0m\u001b[0m\n\u001b[0;32m      9\u001b[0m         \u001b[1;31m#pi = 200\u001b[0m\u001b[1;33m\u001b[0m\u001b[1;33m\u001b[0m\u001b[1;33m\u001b[0m\u001b[0m\n\u001b[1;32m---> 10\u001b[1;33m         \u001b[0mprint\u001b[0m\u001b[1;33m(\u001b[0m\u001b[1;34m\"The value of x :\"\u001b[0m\u001b[1;33m,\u001b[0m \u001b[0mx\u001b[0m\u001b[1;33m)\u001b[0m\u001b[1;33m\u001b[0m\u001b[1;33m\u001b[0m\u001b[0m\n\u001b[0m\u001b[0;32m     11\u001b[0m \u001b[1;33m\u001b[0m\u001b[0m\n\u001b[0;32m     12\u001b[0m     \u001b[0minner\u001b[0m\u001b[1;33m(\u001b[0m\u001b[1;33m)\u001b[0m\u001b[1;33m\u001b[0m\u001b[1;33m\u001b[0m\u001b[0m\n",
      "\u001b[1;31mNameError\u001b[0m: name 'x' is not defined"
     ]
    }
   ],
   "source": [
    "from math import pi\n",
    "\n",
    "#pi = 500\n",
    "\n",
    "def outer():\n",
    "   # pi =100\n",
    "    \n",
    "    def inner():\n",
    "        #pi = 200\n",
    "        print(\"The value of x :\", x)\n",
    "    \n",
    "    inner()\n",
    "\n",
    "outer()\n",
    "\n",
    "pi"
   ]
  },
  {
   "cell_type": "code",
   "execution_count": null,
   "id": "c238b262",
   "metadata": {
    "ExecuteTime": {
     "end_time": "2022-02-13T09:46:57.250290Z",
     "start_time": "2022-02-13T09:46:57.245304Z"
    }
   },
   "outputs": [],
   "source": [
    "# L - Local\n",
    "# E - Enclosing\n",
    "# G - Global\n",
    "# B - Built-in"
   ]
  },
  {
   "cell_type": "code",
   "execution_count": null,
   "id": "5eab9df2",
   "metadata": {
    "ExecuteTime": {
     "end_time": "2022-02-13T09:48:47.678865Z",
     "start_time": "2022-02-13T09:48:47.668927Z"
    }
   },
   "outputs": [],
   "source": [
    "import math"
   ]
  },
  {
   "cell_type": "code",
   "execution_count": 2,
   "id": "6e923189",
   "metadata": {
    "ExecuteTime": {
     "end_time": "2022-02-15T04:29:11.206943Z",
     "start_time": "2022-02-15T04:29:11.196973Z"
    }
   },
   "outputs": [],
   "source": [
    "from math import pi"
   ]
  },
  {
   "cell_type": "code",
   "execution_count": 3,
   "id": "fd8e3b8d",
   "metadata": {
    "ExecuteTime": {
     "end_time": "2022-02-15T04:29:12.892659Z",
     "start_time": "2022-02-15T04:29:12.871711Z"
    }
   },
   "outputs": [
    {
     "data": {
      "text/plain": [
       "3.141592653589793"
      ]
     },
     "execution_count": 3,
     "metadata": {},
     "output_type": "execute_result"
    }
   ],
   "source": [
    "pi"
   ]
  },
  {
   "cell_type": "code",
   "execution_count": 6,
   "id": "24272456",
   "metadata": {
    "ExecuteTime": {
     "end_time": "2022-02-15T04:30:44.397014Z",
     "start_time": "2022-02-15T04:30:44.384022Z"
    }
   },
   "outputs": [],
   "source": [
    "import builtins"
   ]
  },
  {
   "cell_type": "code",
   "execution_count": 7,
   "id": "ca753857",
   "metadata": {
    "ExecuteTime": {
     "end_time": "2022-02-15T04:30:46.251894Z",
     "start_time": "2022-02-15T04:30:46.244913Z"
    }
   },
   "outputs": [
    {
     "name": "stdout",
     "output_type": "stream",
     "text": [
      "['ArithmeticError', 'AssertionError', 'AttributeError', 'BaseException', 'BlockingIOError', 'BrokenPipeError', 'BufferError', 'BytesWarning', 'ChildProcessError', 'ConnectionAbortedError', 'ConnectionError', 'ConnectionRefusedError', 'ConnectionResetError', 'DeprecationWarning', 'EOFError', 'Ellipsis', 'EnvironmentError', 'Exception', 'False', 'FileExistsError', 'FileNotFoundError', 'FloatingPointError', 'FutureWarning', 'GeneratorExit', 'IOError', 'ImportError', 'ImportWarning', 'IndentationError', 'IndexError', 'InterruptedError', 'IsADirectoryError', 'KeyError', 'KeyboardInterrupt', 'LookupError', 'MemoryError', 'ModuleNotFoundError', 'NameError', 'None', 'NotADirectoryError', 'NotImplemented', 'NotImplementedError', 'OSError', 'OverflowError', 'PendingDeprecationWarning', 'PermissionError', 'ProcessLookupError', 'RecursionError', 'ReferenceError', 'ResourceWarning', 'RuntimeError', 'RuntimeWarning', 'StopAsyncIteration', 'StopIteration', 'SyntaxError', 'SyntaxWarning', 'SystemError', 'SystemExit', 'TabError', 'TimeoutError', 'True', 'TypeError', 'UnboundLocalError', 'UnicodeDecodeError', 'UnicodeEncodeError', 'UnicodeError', 'UnicodeTranslateError', 'UnicodeWarning', 'UserWarning', 'ValueError', 'Warning', 'WindowsError', 'ZeroDivisionError', '__IPYTHON__', '__build_class__', '__debug__', '__doc__', '__import__', '__loader__', '__name__', '__package__', '__spec__', 'abs', 'all', 'any', 'ascii', 'bin', 'bool', 'breakpoint', 'bytearray', 'bytes', 'callable', 'chr', 'classmethod', 'compile', 'complex', 'copyright', 'credits', 'delattr', 'dict', 'dir', 'display', 'divmod', 'enumerate', 'eval', 'exec', 'filter', 'float', 'format', 'frozenset', 'get_ipython', 'getattr', 'globals', 'hasattr', 'hash', 'help', 'hex', 'id', 'input', 'int', 'isinstance', 'issubclass', 'iter', 'len', 'license', 'list', 'locals', 'map', 'max', 'memoryview', 'min', 'next', 'object', 'oct', 'open', 'ord', 'pow', 'print', 'property', 'range', 'repr', 'reversed', 'round', 'set', 'setattr', 'slice', 'sorted', 'staticmethod', 'str', 'sum', 'super', 'tuple', 'type', 'vars', 'zip']\n"
     ]
    }
   ],
   "source": [
    "print(dir(builtins))"
   ]
  },
  {
   "cell_type": "code",
   "execution_count": null,
   "id": "a3d13402",
   "metadata": {},
   "outputs": [],
   "source": []
  }
 ],
 "metadata": {
  "kernelspec": {
   "display_name": "Python 3",
   "language": "python",
   "name": "python3"
  },
  "language_info": {
   "codemirror_mode": {
    "name": "ipython",
    "version": 3
   },
   "file_extension": ".py",
   "mimetype": "text/x-python",
   "name": "python",
   "nbconvert_exporter": "python",
   "pygments_lexer": "ipython3",
   "version": "3.8.8"
  }
 },
 "nbformat": 4,
 "nbformat_minor": 5
}
