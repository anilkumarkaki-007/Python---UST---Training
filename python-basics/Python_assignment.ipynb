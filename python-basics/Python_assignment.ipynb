{
 "cells": [
  {
   "cell_type": "markdown",
   "id": "1d73a328",
   "metadata": {},
   "source": [
    "## Numbers"
   ]
  },
  {
   "cell_type": "code",
   "execution_count": null,
   "id": "95218544",
   "metadata": {
    "ExecuteTime": {
     "start_time": "2022-02-17T10:14:59.731Z"
    }
   },
   "outputs": [
    {
     "name": "stdout",
     "output_type": "stream",
     "text": [
      "Enter the number :25\n"
     ]
    }
   ],
   "source": [
    "def happy_num(num):\n",
    "    sum = 0\n",
    "    while num > 0:\n",
    "        rem = num % 10\n",
    "        sum += rem * rem\n",
    "        num // 10\n",
    "        return sum\n",
    "    \n",
    "num = int(input(\"Enter the number :\"))\n",
    "result = num\n",
    "\n",
    "while result != 1 and result != 4:\n",
    "    result = happy_num(result)\n",
    "    \n",
    "if result == 1:\n",
    "    print (\"It is a happy number\")\n",
    "    \n",
    "else:\n",
    "    print (\"IT is not an happy number\")"
   ]
  },
  {
   "cell_type": "code",
   "execution_count": 2,
   "id": "83676059",
   "metadata": {
    "ExecuteTime": {
     "end_time": "2022-02-21T04:09:22.368733Z",
     "start_time": "2022-02-21T04:09:19.198924Z"
    }
   },
   "outputs": [
    {
     "name": "stdout",
     "output_type": "stream",
     "text": [
      "True\n",
      "True\n",
      "False\n"
     ]
    }
   ],
   "source": [
    "def is_Happy_num(n):\n",
    "    past = set()\n",
    "    while n != 1:\n",
    "        n = sum(int(i)**2 for i in str(n))\n",
    "        if n in past:\n",
    "            return False\n",
    "        past.add(n)\n",
    "    return True\n",
    "print(is_Happy_num(7))\n",
    "print(is_Happy_num(932))\n",
    "print(is_Happy_num(6))"
   ]
  },
  {
   "cell_type": "code",
   "execution_count": 17,
   "id": "0a9213d9",
   "metadata": {
    "ExecuteTime": {
     "end_time": "2022-02-18T06:58:11.423098Z",
     "start_time": "2022-02-18T06:58:11.399162Z"
    }
   },
   "outputs": [
    {
     "name": "stdout",
     "output_type": "stream",
     "text": [
      "Text  : Hello World\n",
      "Shift : 4\n",
      "Cipher: LippsrAsvph\n"
     ]
    }
   ],
   "source": [
    "#A python program to illustrate Caesar Cipher Technique\n",
    "def encrypt(text,s):\n",
    "    result = \"\"\n",
    " \n",
    "    # traverse text\n",
    "    for i in range(len(text)):\n",
    "        char = text[i]\n",
    " \n",
    "        # Encrypt uppercase characters\n",
    "        if (char.isupper()):\n",
    "            result += chr((ord(char) + s-65) % 26 + 65)\n",
    " \n",
    "        # Encrypt lowercase characters\n",
    "        else:\n",
    "            result += chr((ord(char) + s - 97) % 26 + 97)\n",
    " \n",
    "    return result\n",
    " \n",
    "#check the above function\n",
    "text = \"Hello World\"\n",
    "s = 4\n",
    "print (\"Text  : \" + text)\n",
    "print (\"Shift : \" + str(s))\n",
    "print (\"Cipher: \" + encrypt(text,s))"
   ]
  },
  {
   "cell_type": "code",
   "execution_count": 1,
   "id": "6c38f2eb",
   "metadata": {
    "ExecuteTime": {
     "end_time": "2022-02-18T07:22:02.080081Z",
     "start_time": "2022-02-18T07:21:55.919082Z"
    }
   },
   "outputs": [
    {
     "name": "stdout",
     "output_type": "stream",
     "text": [
      "Expression : sin(x)/x\n",
      "Limit of the expression tends to 0 : 1\n"
     ]
    }
   ],
   "source": [
    "import sympy\n",
    "from sympy import *\n",
    "\n",
    "x = symbols('x')\n",
    "expr = sin(x)/x;\n",
    "\n",
    "print(\"Expression : {}\".format(expr))\n",
    "\t\n",
    "# Use sympy.limit() method\n",
    "limit_expr = limit(expr, x, 0)\n",
    "\t\n",
    "print(\"Limit of the expression tends to 0 : {}\".format(limit_expr))\n"
   ]
  },
  {
   "cell_type": "code",
   "execution_count": null,
   "id": "d328614a",
   "metadata": {},
   "outputs": [],
   "source": []
  }
 ],
 "metadata": {
  "kernelspec": {
   "display_name": "Python 3",
   "language": "python",
   "name": "python3"
  },
  "language_info": {
   "codemirror_mode": {
    "name": "ipython",
    "version": 3
   },
   "file_extension": ".py",
   "mimetype": "text/x-python",
   "name": "python",
   "nbconvert_exporter": "python",
   "pygments_lexer": "ipython3",
   "version": "3.8.8"
  }
 },
 "nbformat": 4,
 "nbformat_minor": 5
}
